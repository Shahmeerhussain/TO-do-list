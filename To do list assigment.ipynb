{
 "cells": [
  {
   "cell_type": "code",
   "execution_count": 4,
   "metadata": {},
   "outputs": [
    {
     "name": "stdout",
     "output_type": "stream",
     "text": [
      " To Do List \n",
      "\n",
      "Please enter total number of Tasks List: 4\n",
      "Please enter Task Name: Pay a electricity bill\n",
      "Please enter Task Name: Pay order\n",
      "Please enter Task Name: Going for exercise\n",
      "Please enter Task Name: Takecare of her mother\n",
      "['Pay a electricity bill', 'Pay order', 'Going for exercise', 'Takecare of her mother']\n"
     ]
    }
   ],
   "source": [
    "#you cann add many task depends upon you\n",
    "print(\" To Do List \")\n",
    "print()\n",
    "\n",
    "To_Do_List = []\n",
    "\n",
    "Number_of_Tasks = int(input(\"Please enter total number of Tasks List: \"))\n",
    "for i in range(Number_of_Tasks):\n",
    "    Number_of_Tasks = input(\"Please enter Task Name: \")\n",
    "    To_Do_List.append(Number_of_Tasks)\n",
    "print(To_Do_List)"
   ]
  },
  {
   "cell_type": "code",
   "execution_count": 9,
   "metadata": {},
   "outputs": [
    {
     "name": "stdout",
     "output_type": "stream",
     "text": [
      "To Do List\n",
      "\n",
      "Please enter the number of Tasks to be deleted incase of wrong task entered: 1\n",
      "Please enter Name of Task to be deleted: Pay a electricity bill\n",
      "['Pay order', 'Going for exercise', 'Takecare of her mother']\n"
     ]
    }
   ],
   "source": [
    "#you can also delete a one task and all task\n",
    "print (\"To Do List\")\n",
    "print()\n",
    "Delete_Tasks = int(input(\"Please enter the number of Tasks to be deleted if  you deleting a  wrong task entered: \"))\n",
    "for i in range(Delete_Tasks):\n",
    "    Delete_Tasks = input(\"Please enter Name of Task to be deleted: \")\n",
    "    To_Do_List.remove(Delete_Tasks)\n",
    "print(To_Do_List)"
   ]
  },
  {
   "cell_type": "code",
   "execution_count": null,
   "metadata": {},
   "outputs": [],
   "source": []
  }
 ],
 "metadata": {
  "kernelspec": {
   "display_name": "Python 3",
   "language": "python",
   "name": "python3"
  },
  "language_info": {
   "codemirror_mode": {
    "name": "ipython",
    "version": 3
   },
   "file_extension": ".py",
   "mimetype": "text/x-python",
   "name": "python",
   "nbconvert_exporter": "python",
   "pygments_lexer": "ipython3",
   "version": "3.7.3"
  }
 },
 "nbformat": 4,
 "nbformat_minor": 2
}
